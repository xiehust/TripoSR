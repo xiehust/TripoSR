{
 "cells": [
  {
   "cell_type": "markdown",
   "metadata": {},
   "source": [
    "## 1. Deploy on SageMaker"
   ]
  },
  {
   "cell_type": "markdown",
   "metadata": {},
   "source": [
    "### 1.1 Build Container and push to ECR"
   ]
  },
  {
   "cell_type": "code",
   "execution_count": null,
   "metadata": {},
   "outputs": [],
   "source": [
    "VERSION='latest'\n",
    "inference_image='sagemaker/triposr'\n",
    "\n",
    "!bash build_and_push.sh {inference_image} {VERSION}"
   ]
  },
  {
   "cell_type": "markdown",
   "metadata": {},
   "source": [
    "### 1.1 Init SageMaker session"
   ]
  },
  {
   "cell_type": "code",
   "execution_count": 73,
   "metadata": {},
   "outputs": [
    {
     "data": {
      "text/html": [
       "<pre style=\"white-space:pre;overflow-x:auto;line-height:normal;font-family:Menlo,'DejaVu Sans Mono',consolas,'Courier New',monospace\"><span style=\"color: #7fbfbf; text-decoration-color: #7fbfbf\">[01/17/25 04:48:21] </span><span style=\"color: #0069ff; text-decoration-color: #0069ff; font-weight: bold\">INFO    </span> Found credentials from IAM Role: admin_role_for_workshop           <a href=\"file:///opt/conda/envs/tripo/lib/python3.12/site-packages/botocore/credentials.py\" target=\"_blank\"><span style=\"color: #7f7f7f; text-decoration-color: #7f7f7f\">credentials.py</span></a><span style=\"color: #7f7f7f; text-decoration-color: #7f7f7f\">:</span><a href=\"file:///opt/conda/envs/tripo/lib/python3.12/site-packages/botocore/credentials.py#1075\" target=\"_blank\"><span style=\"color: #7f7f7f; text-decoration-color: #7f7f7f\">1075</span></a>\n",
       "</pre>\n"
      ],
      "text/plain": [
       "\u001b[2;36m[01/17/25 04:48:21]\u001b[0m\u001b[2;36m \u001b[0m\u001b[1;38;2;0;105;255mINFO    \u001b[0m Found credentials from IAM Role: admin_role_for_workshop           \u001b]8;id=816231;file:///opt/conda/envs/tripo/lib/python3.12/site-packages/botocore/credentials.py\u001b\\\u001b[2mcredentials.py\u001b[0m\u001b]8;;\u001b\\\u001b[2m:\u001b[0m\u001b]8;id=687165;file:///opt/conda/envs/tripo/lib/python3.12/site-packages/botocore/credentials.py#1075\u001b\\\u001b[2m1075\u001b[0m\u001b]8;;\u001b\\\n"
      ]
     },
     "metadata": {},
     "output_type": "display_data"
    }
   ],
   "source": [
    "# !pip install boto3 sagemaker transformers\n",
    "import re\n",
    "import json\n",
    "import os\n",
    "import boto3\n",
    "import sagemaker\n",
    "from sagemaker import Model\n",
    "boto_sess = boto3.Session()\n",
    "\n",
    "sess = sagemaker.session.Session(boto_session=boto_sess)\n",
    "role = sagemaker.get_execution_role()\n",
    "# role = 'arn:aws:iam::434444145045:role/sagemaker-modelhub'\n",
    "region = boto_sess.region_name"
   ]
  },
  {
   "cell_type": "code",
   "execution_count": 74,
   "metadata": {},
   "outputs": [
    {
     "name": "stdout",
     "output_type": "stream",
     "text": [
      "434444145045.dkr.ecr.us-east-1.amazonaws.com/sagemaker/triposr:latest\n"
     ]
    }
   ],
   "source": [
    "CONTAINER=f\"{sess.account_id()}.dkr.ecr.{region}.amazonaws.com/{inference_image}:{VERSION}\"\n",
    "print(CONTAINER)"
   ]
  },
  {
   "cell_type": "markdown",
   "metadata": {},
   "source": [
    "- make a dummy tar.gz"
   ]
  },
  {
   "cell_type": "code",
   "execution_count": 75,
   "metadata": {},
   "outputs": [
    {
     "name": "stdout",
     "output_type": "stream",
     "text": [
      "mkdir: cannot create directory ‘dummy’: File exists\n"
     ]
    },
    {
     "name": "stdout",
     "output_type": "stream",
     "text": [
      "dummy/\n"
     ]
    }
   ],
   "source": [
    "!mkdir dummy\n",
    "!tar czvf dummy.tar.gz dummy/\n",
    "s3_code_prefix = f\"sagemaker_endpoint/dummy\"\n",
    "bucket = sess.default_bucket() \n",
    "code_artifact = sess.upload_data(\"dummy.tar.gz\", bucket, s3_code_prefix)"
   ]
  },
  {
   "cell_type": "markdown",
   "metadata": {},
   "source": [
    "#### （可选）设置worker数量，一个worker代表一个模型copy，默认是1，如果卡比较大可以设置多份copy"
   ]
  },
  {
   "cell_type": "code",
   "execution_count": 99,
   "metadata": {},
   "outputs": [],
   "source": [
    "env = {\n",
    "    \"WORKERS\":\"2\" #需要str类型\n",
    "} "
   ]
  },
  {
   "cell_type": "code",
   "execution_count": 100,
   "metadata": {},
   "outputs": [
    {
     "name": "stdout",
     "output_type": "stream",
     "text": [
      "endpoint_name: triposr-2025-01-17-05-21-25-425-endpoint\n"
     ]
    },
    {
     "data": {
      "text/html": [
       "<pre style=\"white-space:pre;overflow-x:auto;line-height:normal;font-family:Menlo,'DejaVu Sans Mono',consolas,'Courier New',monospace\"><span style=\"color: #7fbfbf; text-decoration-color: #7fbfbf\">[01/17/25 05:21:25] </span><span style=\"color: #0069ff; text-decoration-color: #0069ff; font-weight: bold\">INFO    </span> Creating model with name: triposr-<span style=\"color: #008080; text-decoration-color: #008080; font-weight: bold\">2025</span>-01-17-05-21-25-424-model        <a href=\"file:///opt/conda/envs/tripo/lib/python3.12/site-packages/sagemaker/session.py\" target=\"_blank\"><span style=\"color: #7f7f7f; text-decoration-color: #7f7f7f\">session.py</span></a><span style=\"color: #7f7f7f; text-decoration-color: #7f7f7f\">:</span><a href=\"file:///opt/conda/envs/tripo/lib/python3.12/site-packages/sagemaker/session.py#4094\" target=\"_blank\"><span style=\"color: #7f7f7f; text-decoration-color: #7f7f7f\">4094</span></a>\n",
       "</pre>\n"
      ],
      "text/plain": [
       "\u001b[2;36m[01/17/25 05:21:25]\u001b[0m\u001b[2;36m \u001b[0m\u001b[1;38;2;0;105;255mINFO    \u001b[0m Creating model with name: triposr-\u001b[1;36m2025\u001b[0m-01-17-05-21-25-424-model        \u001b]8;id=155801;file:///opt/conda/envs/tripo/lib/python3.12/site-packages/sagemaker/session.py\u001b\\\u001b[2msession.py\u001b[0m\u001b]8;;\u001b\\\u001b[2m:\u001b[0m\u001b]8;id=253636;file:///opt/conda/envs/tripo/lib/python3.12/site-packages/sagemaker/session.py#4094\u001b\\\u001b[2m4094\u001b[0m\u001b]8;;\u001b\\\n"
      ]
     },
     "metadata": {},
     "output_type": "display_data"
    },
    {
     "data": {
      "text/html": [
       "<pre style=\"white-space:pre;overflow-x:auto;line-height:normal;font-family:Menlo,'DejaVu Sans Mono',consolas,'Courier New',monospace\"><span style=\"color: #7fbfbf; text-decoration-color: #7fbfbf\">[01/17/25 05:21:26] </span><span style=\"color: #0069ff; text-decoration-color: #0069ff; font-weight: bold\">INFO    </span> Creating endpoint-config with name                                     <a href=\"file:///opt/conda/envs/tripo/lib/python3.12/site-packages/sagemaker/session.py\" target=\"_blank\"><span style=\"color: #7f7f7f; text-decoration-color: #7f7f7f\">session.py</span></a><span style=\"color: #7f7f7f; text-decoration-color: #7f7f7f\">:</span><a href=\"file:///opt/conda/envs/tripo/lib/python3.12/site-packages/sagemaker/session.py#5889\" target=\"_blank\"><span style=\"color: #7f7f7f; text-decoration-color: #7f7f7f\">5889</span></a>\n",
       "<span style=\"color: #7fbfbf; text-decoration-color: #7fbfbf\">                    </span>         triposr-<span style=\"color: #008080; text-decoration-color: #008080; font-weight: bold\">2025</span>-01-17-05-21-25-425-endpoint                               <span style=\"color: #7f7f7f; text-decoration-color: #7f7f7f\">               </span>\n",
       "</pre>\n"
      ],
      "text/plain": [
       "\u001b[2;36m[01/17/25 05:21:26]\u001b[0m\u001b[2;36m \u001b[0m\u001b[1;38;2;0;105;255mINFO    \u001b[0m Creating endpoint-config with name                                     \u001b]8;id=864087;file:///opt/conda/envs/tripo/lib/python3.12/site-packages/sagemaker/session.py\u001b\\\u001b[2msession.py\u001b[0m\u001b]8;;\u001b\\\u001b[2m:\u001b[0m\u001b]8;id=871963;file:///opt/conda/envs/tripo/lib/python3.12/site-packages/sagemaker/session.py#5889\u001b\\\u001b[2m5889\u001b[0m\u001b]8;;\u001b\\\n",
       "\u001b[2;36m                    \u001b[0m         triposr-\u001b[1;36m2025\u001b[0m-01-17-05-21-25-425-endpoint                               \u001b[2m               \u001b[0m\n"
      ]
     },
     "metadata": {},
     "output_type": "display_data"
    },
    {
     "data": {
      "text/html": [
       "<pre style=\"white-space:pre;overflow-x:auto;line-height:normal;font-family:Menlo,'DejaVu Sans Mono',consolas,'Courier New',monospace\"><span style=\"color: #7fbfbf; text-decoration-color: #7fbfbf\">                    </span><span style=\"color: #0069ff; text-decoration-color: #0069ff; font-weight: bold\">INFO    </span> Creating endpoint with name triposr-<span style=\"color: #008080; text-decoration-color: #008080; font-weight: bold\">2025</span>-01-17-05-21-25-425-endpoint   <a href=\"file:///opt/conda/envs/tripo/lib/python3.12/site-packages/sagemaker/session.py\" target=\"_blank\"><span style=\"color: #7f7f7f; text-decoration-color: #7f7f7f\">session.py</span></a><span style=\"color: #7f7f7f; text-decoration-color: #7f7f7f\">:</span><a href=\"file:///opt/conda/envs/tripo/lib/python3.12/site-packages/sagemaker/session.py#4711\" target=\"_blank\"><span style=\"color: #7f7f7f; text-decoration-color: #7f7f7f\">4711</span></a>\n",
       "</pre>\n"
      ],
      "text/plain": [
       "\u001b[2;36m                   \u001b[0m\u001b[2;36m \u001b[0m\u001b[1;38;2;0;105;255mINFO    \u001b[0m Creating endpoint with name triposr-\u001b[1;36m2025\u001b[0m-01-17-05-21-25-425-endpoint   \u001b]8;id=171175;file:///opt/conda/envs/tripo/lib/python3.12/site-packages/sagemaker/session.py\u001b\\\u001b[2msession.py\u001b[0m\u001b]8;;\u001b\\\u001b[2m:\u001b[0m\u001b]8;id=433212;file:///opt/conda/envs/tripo/lib/python3.12/site-packages/sagemaker/session.py#4711\u001b\\\u001b[2m4711\u001b[0m\u001b]8;;\u001b\\\n"
      ]
     },
     "metadata": {},
     "output_type": "display_data"
    },
    {
     "name": "stdout",
     "output_type": "stream",
     "text": [
      "----------------------!"
     ]
    }
   ],
   "source": [
    "\n",
    "model = Model(\n",
    "    name=sagemaker.utils.name_from_base(\"triposr\")+\"-model\",\n",
    "    model_data=code_artifact,\n",
    "    image_uri=CONTAINER,\n",
    "    role=role,\n",
    "    sagemaker_session=sess,\n",
    "    env=env\n",
    ")\n",
    "\n",
    "# 部署模型到endpoint\n",
    "endpoint_name = sagemaker.utils.name_from_base(\"triposr\")+\"-endpoint\"\n",
    "print(f\"endpoint_name: {endpoint_name}\")\n",
    "predictor = model.deploy(\n",
    "    initial_instance_count=1,\n",
    "    instance_type='ml.g5.2xlarge',\n",
    "    endpoint_name=endpoint_name,\n",
    ")"
   ]
  },
  {
   "cell_type": "markdown",
   "metadata": {},
   "source": [
    "## Inference"
   ]
  },
  {
   "cell_type": "code",
   "execution_count": 78,
   "metadata": {},
   "outputs": [],
   "source": [
    "from sagemaker import Predictor\n",
    "from sagemaker import serializers, deserializers"
   ]
  },
  {
   "cell_type": "code",
   "execution_count": 101,
   "metadata": {},
   "outputs": [],
   "source": [
    "predictor = Predictor(\n",
    "            endpoint_name=endpoint_name,\n",
    "            sagemaker_session=sess,\n",
    "            serializer=serializers.JSONSerializer(),\n",
    "        )"
   ]
  },
  {
   "cell_type": "code",
   "execution_count": 102,
   "metadata": {},
   "outputs": [],
   "source": [
    "from PIL import Image\n",
    "import base64\n",
    "import io\n",
    "import boto3\n",
    "import os"
   ]
  },
  {
   "cell_type": "code",
   "execution_count": 103,
   "metadata": {},
   "outputs": [],
   "source": [
    "#download file from s3 url\n",
    "def download_file(s3_url, local_file_path):\n",
    "    s3 = boto3.client('s3')\n",
    "    bucket_name = s3_url.split('/')[2]\n",
    "    key = '/'.join(s3_url.split('/')[3:])\n",
    "    file_name = os.path.basename(key)\n",
    "    local_file_path = os.path.join(local_file_path, file_name)\n",
    "    s3.download_file(bucket_name, key, local_file_path)\n",
    "    return local_file_path"
   ]
  },
  {
   "cell_type": "code",
   "execution_count": 104,
   "metadata": {},
   "outputs": [],
   "source": [
    "#read a image file as a  base64 string\n",
    "image_path = \"examples/chair.png\"\n",
    "with open(image_path, \"rb\") as f:\n",
    "    binary_data = f.read()\n",
    "    base_64_encoded_data = base64.b64encode(binary_data)\n",
    "    base64_string = base_64_encoded_data.decode(\"utf-8\")"
   ]
  },
  {
   "cell_type": "code",
   "execution_count": 88,
   "metadata": {},
   "outputs": [],
   "source": []
  },
  {
   "cell_type": "code",
   "execution_count": 120,
   "metadata": {},
   "outputs": [],
   "source": [
    "\n",
    "payload = {\n",
    "    \"image\":[base64_string],\n",
    "    \"render\":True\n",
    "    }"
   ]
  },
  {
   "cell_type": "code",
   "execution_count": 121,
   "metadata": {},
   "outputs": [],
   "source": [
    "response = predictor.predict(payload)"
   ]
  },
  {
   "cell_type": "code",
   "execution_count": 122,
   "metadata": {},
   "outputs": [
    {
     "data": {
      "text/plain": [
       "{'results': [{'render_images': ['s3://sagemaker-us-east-1-434444145045/sagemaker-endpoint/meshoutput/2025_01_17_05_48_25bw22edory9s3zjnr/0_render_000.png',\n",
       "    's3://sagemaker-us-east-1-434444145045/sagemaker-endpoint/meshoutput/2025_01_17_05_48_25bw22edory9s3zjnr/0_render_001.png',\n",
       "    's3://sagemaker-us-east-1-434444145045/sagemaker-endpoint/meshoutput/2025_01_17_05_48_25bw22edory9s3zjnr/0_render_002.png',\n",
       "    's3://sagemaker-us-east-1-434444145045/sagemaker-endpoint/meshoutput/2025_01_17_05_48_25bw22edory9s3zjnr/0_render_003.png',\n",
       "    's3://sagemaker-us-east-1-434444145045/sagemaker-endpoint/meshoutput/2025_01_17_05_48_25bw22edory9s3zjnr/0_render_004.png',\n",
       "    's3://sagemaker-us-east-1-434444145045/sagemaker-endpoint/meshoutput/2025_01_17_05_48_25bw22edory9s3zjnr/0_render_005.png',\n",
       "    's3://sagemaker-us-east-1-434444145045/sagemaker-endpoint/meshoutput/2025_01_17_05_48_25bw22edory9s3zjnr/0_render_006.png',\n",
       "    's3://sagemaker-us-east-1-434444145045/sagemaker-endpoint/meshoutput/2025_01_17_05_48_26bw22edory9s3zjnr/0_render_007.png',\n",
       "    's3://sagemaker-us-east-1-434444145045/sagemaker-endpoint/meshoutput/2025_01_17_05_48_26bw22edory9s3zjnr/0_render_008.png',\n",
       "    's3://sagemaker-us-east-1-434444145045/sagemaker-endpoint/meshoutput/2025_01_17_05_48_26bw22edory9s3zjnr/0_render_009.png',\n",
       "    's3://sagemaker-us-east-1-434444145045/sagemaker-endpoint/meshoutput/2025_01_17_05_48_26bw22edory9s3zjnr/0_render_010.png',\n",
       "    's3://sagemaker-us-east-1-434444145045/sagemaker-endpoint/meshoutput/2025_01_17_05_48_26bw22edory9s3zjnr/0_render_011.png',\n",
       "    's3://sagemaker-us-east-1-434444145045/sagemaker-endpoint/meshoutput/2025_01_17_05_48_26bw22edory9s3zjnr/0_render_012.png',\n",
       "    's3://sagemaker-us-east-1-434444145045/sagemaker-endpoint/meshoutput/2025_01_17_05_48_26bw22edory9s3zjnr/0_render_013.png',\n",
       "    's3://sagemaker-us-east-1-434444145045/sagemaker-endpoint/meshoutput/2025_01_17_05_48_26bw22edory9s3zjnr/0_render_014.png',\n",
       "    's3://sagemaker-us-east-1-434444145045/sagemaker-endpoint/meshoutput/2025_01_17_05_48_26bw22edory9s3zjnr/0_render_015.png',\n",
       "    's3://sagemaker-us-east-1-434444145045/sagemaker-endpoint/meshoutput/2025_01_17_05_48_26bw22edory9s3zjnr/0_render_016.png',\n",
       "    's3://sagemaker-us-east-1-434444145045/sagemaker-endpoint/meshoutput/2025_01_17_05_48_26bw22edory9s3zjnr/0_render_017.png',\n",
       "    's3://sagemaker-us-east-1-434444145045/sagemaker-endpoint/meshoutput/2025_01_17_05_48_27bw22edory9s3zjnr/0_render_018.png',\n",
       "    's3://sagemaker-us-east-1-434444145045/sagemaker-endpoint/meshoutput/2025_01_17_05_48_27bw22edory9s3zjnr/0_render_019.png',\n",
       "    's3://sagemaker-us-east-1-434444145045/sagemaker-endpoint/meshoutput/2025_01_17_05_48_27bw22edory9s3zjnr/0_render_020.png',\n",
       "    's3://sagemaker-us-east-1-434444145045/sagemaker-endpoint/meshoutput/2025_01_17_05_48_27bw22edory9s3zjnr/0_render_021.png',\n",
       "    's3://sagemaker-us-east-1-434444145045/sagemaker-endpoint/meshoutput/2025_01_17_05_48_27bw22edory9s3zjnr/0_render_022.png',\n",
       "    's3://sagemaker-us-east-1-434444145045/sagemaker-endpoint/meshoutput/2025_01_17_05_48_27bw22edory9s3zjnr/0_render_023.png',\n",
       "    's3://sagemaker-us-east-1-434444145045/sagemaker-endpoint/meshoutput/2025_01_17_05_48_27bw22edory9s3zjnr/0_render_024.png',\n",
       "    's3://sagemaker-us-east-1-434444145045/sagemaker-endpoint/meshoutput/2025_01_17_05_48_27bw22edory9s3zjnr/0_render_025.png',\n",
       "    's3://sagemaker-us-east-1-434444145045/sagemaker-endpoint/meshoutput/2025_01_17_05_48_27bw22edory9s3zjnr/0_render_026.png',\n",
       "    's3://sagemaker-us-east-1-434444145045/sagemaker-endpoint/meshoutput/2025_01_17_05_48_27bw22edory9s3zjnr/0_render_027.png',\n",
       "    's3://sagemaker-us-east-1-434444145045/sagemaker-endpoint/meshoutput/2025_01_17_05_48_27bw22edory9s3zjnr/0_render_028.png',\n",
       "    's3://sagemaker-us-east-1-434444145045/sagemaker-endpoint/meshoutput/2025_01_17_05_48_28bw22edory9s3zjnr/0_render_029.png'],\n",
       "   'render_video': 's3://sagemaker-us-east-1-434444145045/sagemaker-endpoint/meshoutput/2025_01_17_05_48_28bw22edory9s3zjnr/0_render.mp4'},\n",
       "  {'mesh_path': 's3://sagemaker-us-east-1-434444145045/sagemaker-endpoint/meshoutput/2025_01_17_05_48_30bw22edory9s3zjnr/0_mesh.obj'}]}"
      ]
     },
     "execution_count": 122,
     "metadata": {},
     "output_type": "execute_result"
    }
   ],
   "source": [
    "result = json.loads(response.decode('utf-8'))\n",
    "result"
   ]
  },
  {
   "cell_type": "code",
   "execution_count": 124,
   "metadata": {},
   "outputs": [],
   "source": [
    "s3path = result['results'][1]['mesh_path']"
   ]
  },
  {
   "cell_type": "code",
   "execution_count": 125,
   "metadata": {},
   "outputs": [
    {
     "data": {
      "text/plain": [
       "'output/0_mesh.obj'"
      ]
     },
     "execution_count": 125,
     "metadata": {},
     "output_type": "execute_result"
    }
   ],
   "source": [
    "#create a output folder and if exists is ok\n",
    "os.makedirs('output', exist_ok=True)\n",
    "download_file(s3path, 'output')"
   ]
  },
  {
   "cell_type": "markdown",
   "metadata": {},
   "source": [
    "### 并发测试"
   ]
  },
  {
   "cell_type": "code",
   "execution_count": 133,
   "metadata": {},
   "outputs": [],
   "source": [
    "base64_strings = [base64_string]*1\n",
    "\n",
    "from concurrent.futures import ThreadPoolExecutor\n",
    "import concurrent\n",
    "\n",
    "def predict_single(base64_string):\n",
    "    return predictor.predict({\"image\": [base64_string]})\n",
    "\n",
    "# 创建线程池执行器\n",
    "with ThreadPoolExecutor(max_workers=4) as executor:\n",
    "    # 提交任务\n",
    "    future_to_string = {executor.submit(predict_single, base64_str): base64_str \n",
    "                       for base64_str in base64_strings}\n",
    "    \n",
    "    # 获取结果\n",
    "    responses = []\n",
    "    for future in concurrent.futures.as_completed(future_to_string):\n",
    "        try:\n",
    "            response = future.result()\n",
    "            responses.append(response)\n",
    "        except Exception as e:\n",
    "            print(f'Generated an exception: {e}')"
   ]
  },
  {
   "cell_type": "code",
   "execution_count": 134,
   "metadata": {},
   "outputs": [
    {
     "data": {
      "text/plain": [
       "[b'{\"results\":[{\"mesh_path\":\"s3://sagemaker-us-east-1-434444145045/sagemaker-endpoint/meshoutput/2025_01_17_05_52_17o8gup4a66qw0vn2w/0_mesh.obj\"}]}']"
      ]
     },
     "execution_count": 134,
     "metadata": {},
     "output_type": "execute_result"
    }
   ],
   "source": [
    "responses"
   ]
  },
  {
   "cell_type": "code",
   "execution_count": null,
   "metadata": {},
   "outputs": [],
   "source": []
  }
 ],
 "metadata": {
  "kernelspec": {
   "display_name": "tripo",
   "language": "python",
   "name": "python3"
  },
  "language_info": {
   "codemirror_mode": {
    "name": "ipython",
    "version": 3
   },
   "file_extension": ".py",
   "mimetype": "text/x-python",
   "name": "python",
   "nbconvert_exporter": "python",
   "pygments_lexer": "ipython3",
   "version": "3.12.8"
  }
 },
 "nbformat": 4,
 "nbformat_minor": 2
}
